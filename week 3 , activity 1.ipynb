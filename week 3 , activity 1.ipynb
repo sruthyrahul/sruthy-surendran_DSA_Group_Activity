{
 "cells": [
  {
   "cell_type": "markdown",
   "metadata": {
    "id": "4z_Z-K1tlrS7"
   },
   "source": [
    "## 1. Complete the following code to find the area of an equilateral triangle. Output should be as displayed"
   ]
  },
  {
   "cell_type": "code",
   "execution_count": 1,
   "metadata": {
    "colab": {
     "base_uri": "https://localhost:8080/"
    },
    "id": "rP2qFD_SlrS_",
    "outputId": "c3aaf35d-a160-451d-f1bf-ee02c3b7ea77"
   },
   "outputs": [
    {
     "name": "stdout",
     "output_type": "stream",
     "text": [
      "Enter the side of the equilateral triangle: 4\n",
      "6.928\n"
     ]
    }
   ],
   "source": [
    "import math\n",
    "side = float(input(\"Enter the side of the equilateral triangle: \"))\n",
    "area = ((math.sqrt(3))/4)*pow(side,2)\n",
    "print(round(area,3))"
   ]
  },
  {
   "cell_type": "markdown",
   "metadata": {
    "id": "TjVKjIfclrTB"
   },
   "source": [
    "## 2. Write a program to count the number of each characters in a string"
   ]
  },
  {
   "cell_type": "code",
   "execution_count": 3,
   "metadata": {
    "id": "JY5seVUQlrTC"
   },
   "outputs": [
    {
     "name": "stdout",
     "output_type": "stream",
     "text": [
      "Enter the string:RAHUL\n",
      "count of R is 1\n",
      "count of A is 1\n",
      "count of H is 1\n",
      "count of U is 1\n",
      "count of L is 1\n"
     ]
    }
   ],
   "source": [
    "str1=input(\"Enter the string:\")\n",
    "for i in str1:\n",
    "    a=str1.count(i)\n",
    "    print(\"count of\",i,\"is\",a)    "
   ]
  },
  {
   "cell_type": "markdown",
   "metadata": {
    "id": "l3LCULfklrTD"
   },
   "source": [
    "## Write a program to find the area and perimeter of a rectangle using functions"
   ]
  },
  {
   "cell_type": "code",
   "execution_count": 15,
   "metadata": {
    "id": "8haQD8edlrTD"
   },
   "outputs": [
    {
     "name": "stdout",
     "output_type": "stream",
     "text": [
      "..MENU..\n",
      "1.Area\n",
      "2.Perimter\n",
      "Enter your choice:2\n",
      "Enter Length:2\n",
      "Enter Breadth:3\n",
      "Perimeter is: 10\n"
     ]
    }
   ],
   "source": [
    "def area():\n",
    "    l=int(input(\"Enter Length:\"))\n",
    "    b=int(input(\"Enter Breadth:\"))\n",
    "    area=l*b\n",
    "    print(\"Area of rectangle is:\",area)\n",
    "def perimeter():\n",
    "    l=int(input(\"Enter Length:\"))\n",
    "    b=int(input(\"Enter Breadth:\"))\n",
    "    c=l+b\n",
    "    p=2*c\n",
    "    print(\"Perimeter is:\",p)\n",
    "print(\"..MENU..\")\n",
    "print(\"1.Area\\n2.Perimter\")\n",
    "ch=int(input(\"Enter your choice:\"))\n",
    "if ch==1:\n",
    "    area()\n",
    "else:\n",
    "    perimeter()\n",
    "\n",
    "          "
   ]
  },
  {
   "cell_type": "markdown",
   "metadata": {
    "id": "JHK4ZdsflrTE"
   },
   "source": [
    "## 4. Write a program to print the fibonacci series till a specified number"
   ]
  },
  {
   "cell_type": "code",
   "execution_count": 7,
   "metadata": {
    "id": "LyBEj-4SlrTE"
   },
   "outputs": [
    {
     "name": "stdout",
     "output_type": "stream",
     "text": [
      "Enter the limit:5\n",
      "0\n",
      "1\n",
      "1\n",
      "2\n",
      "3\n"
     ]
    }
   ],
   "source": [
    "n=int(input(\"Enter the limit:\"))\n",
    "a=0\n",
    "b=1\n",
    "print (a)\n",
    "print (b)\n",
    "for i in range(2,n):\n",
    "    c=a+b\n",
    "    a=b\n",
    "    b=c\n",
    "    print(c)"
   ]
  },
  {
   "cell_type": "markdown",
   "metadata": {
    "id": "u4uBUcQKlrTE"
   },
   "source": [
    "## 5. Complete the following code to find the minimum of 3 number using cinditional statements. Output should be as displayed"
   ]
  },
  {
   "cell_type": "code",
   "execution_count": 18,
   "metadata": {
    "id": "XdZwrZjIlrTF"
   },
   "outputs": [
    {
     "name": "stdout",
     "output_type": "stream",
     "text": [
      "Enter three numbers followed by: 3 -11 12\n",
      "First number: 3\n",
      "Second number: -11\n",
      "Third number: 12\n",
      "-11 is smallest\n"
     ]
    }
   ],
   "source": [
    "a,b,c=input(\"Enter three numbers followed by: \").split()\n",
    "print(\"First number:\",a)\n",
    "print(\"Second number:\",b)\n",
    "print(\"Third number:\",c)\n",
    "if a==b and b==c and a==c:\n",
    "    print(\"Entered numbers are equal\")\n",
    "elif a<b and a<c:\n",
    "    print(a,\"is smallest\")\n",
    "elif b<a and b<c:\n",
    "    print(b,\"is smallest\")\n",
    "else:\n",
    "    print(c,\"is smallest\")"
   ]
  },
  {
   "cell_type": "markdown",
   "metadata": {
    "id": "aR_CnToWlrTG"
   },
   "source": [
    "## 6. Write a program to print star pyramind. The number of rows should be taken as input from the user"
   ]
  },
  {
   "cell_type": "code",
   "execution_count": 5,
   "metadata": {
    "id": "M37A-buplrTG"
   },
   "outputs": [
    {
     "name": "stdout",
     "output_type": "stream",
     "text": [
      "Enter number of rows:6\n",
      "          *  \n",
      "         * *  \n",
      "        * * *  \n",
      "       * * * *  \n",
      "      * * * * *  \n",
      "     * * * * * *  \n"
     ]
    }
   ],
   "source": [
    "size=int(input(\"Enter number of rows:\"))\n",
    "a=(2*size)-2\n",
    "for i in range(0,size):\n",
    "    for j in range(0,a):\n",
    "        print(end=\" \")\n",
    "    a=a-1\n",
    "    for j in range(0,i+1):\n",
    "        print(\"*\",end=' ')\n",
    "    print(\" \")    \n",
    "        "
   ]
  },
  {
   "cell_type": "markdown",
   "metadata": {
    "id": "tlY6aFWBlrTH"
   },
   "source": [
    "## 7. Complete the following code to convert hour into seconds. Output should be as displayed"
   ]
  },
  {
   "cell_type": "code",
   "execution_count": 10,
   "metadata": {
    "colab": {
     "base_uri": "https://localhost:8080/"
    },
    "id": "YOZQFk7FlrTH",
    "outputId": "164a6040-159f-4634-d98c-3851bc772288"
   },
   "outputs": [
    {
     "name": "stdout",
     "output_type": "stream",
     "text": [
      "Enter time in hours:12\n",
      "12  Hour is equal to 43200  Seconds\n"
     ]
    }
   ],
   "source": [
    "def to_seconds(t):\n",
    "    t=t*60*60\n",
    "    return t\n",
    "time_in_hours = int(input(\"Enter time in hours:\"))\n",
    "print(time_in_hours ,\" Hour is equal to\" ,to_seconds(time_in_hours) ,\" Seconds\")"
   ]
  },
  {
   "cell_type": "markdown",
   "metadata": {
    "id": "CnYorNiLlrTI"
   },
   "source": [
    "## 8. Write a program to print multiplication table as below"
   ]
  },
  {
   "cell_type": "code",
   "execution_count": 5,
   "metadata": {
    "colab": {
     "base_uri": "https://localhost:8080/"
    },
    "id": "dPQqDPuDlrTI",
    "outputId": "1fd8646d-bf0c-44a8-c3e6-663e5d5da748"
   },
   "outputs": [
    {
     "name": "stdout",
     "output_type": "stream",
     "text": [
      "Enter the number:4\n",
      "1 * 4 = 4\n",
      "2 * 4 = 8\n",
      "3 * 4 = 12\n",
      "4 * 4 = 16\n",
      "5 * 4 = 20\n",
      "6 * 4 = 24\n",
      "7 * 4 = 28\n",
      "8 * 4 = 32\n",
      "9 * 4 = 36\n",
      "10 * 4 = 40\n"
     ]
    }
   ],
   "source": [
    "n=int(input(\"Enter the number:\"))\n",
    "mul=1\n",
    "for i in range(1,11):\n",
    "    mul=mul*1\n",
    "    print(i,\"*\",n,\"=\",n*i)\n",
    "      "
   ]
  },
  {
   "cell_type": "markdown",
   "metadata": {
    "id": "Fiaez8iblrTI"
   },
   "source": [
    "## 9. Write a program to take your 5 favorite food as list and print each as 'I like Biriyani'"
   ]
  },
  {
   "cell_type": "code",
   "execution_count": 6,
   "metadata": {
    "colab": {
     "base_uri": "https://localhost:8080/"
    },
    "id": "39W1zFX7lrTJ",
    "outputId": "d9a7e962-0319-4f09-db93-13b7a379a7ae"
   },
   "outputs": [
    {
     "name": "stdout",
     "output_type": "stream",
     "text": [
      "Enter your favorite food:icecream\n",
      "Enter your favorite food:Choclate\n",
      "Enter your favorite food:Kfc\n",
      "Enter your favorite food:Biriyani\n",
      "Enter your favorite food:Pizza\n",
      "1 like icecream\n",
      "1 like Choclate\n",
      "1 like Kfc\n",
      "1 like Biriyani\n",
      "1 like Pizza\n"
     ]
    }
   ],
   "source": [
    "list1=[]\n",
    "i=1\n",
    "while(i<=5):\n",
    "    a=input(\"Enter your favorite food:\")\n",
    "    list1.append(a)\n",
    "    i+=1\n",
    "for i in list1:\n",
    "        print(\"1 like\",i)"
   ]
  },
  {
   "cell_type": "markdown",
   "metadata": {
    "id": "3vlcDNNEP7d_"
   },
   "source": [
    "## 10. Find error(s) in the following code(if any) and rewrite code.\n",
    "\n"
   ]
  },
  {
   "cell_type": "code",
   "execution_count": 10,
   "metadata": {
    "id": "coREkcY3P9sG"
   },
   "outputs": [
    {
     "name": "stdout",
     "output_type": "stream",
     "text": [
      "Enter value of x:7\n",
      "They are unequal\n",
      "They are unequal\n",
      "They are unequal\n",
      "They are unequal\n",
      "They are unequal\n",
      "They are unequal\n",
      "They are unequal\n",
      "They are equal\n",
      "They are unequal\n",
      "They are unequal\n"
     ]
    }
   ],
   "source": [
    "x=int(input(\"Enter value of x:\"))\n",
    "for y in range(0,10):\n",
    "     if x==y:\n",
    "          print(\"They are equal\")\n",
    "     else:\n",
    "         print(\"They are unequal\")"
   ]
  },
  {
   "cell_type": "code",
   "execution_count": null,
   "metadata": {},
   "outputs": [],
   "source": []
  }
 ],
 "metadata": {
  "colab": {
   "collapsed_sections": [],
   "name": "Q&A activity student file.ipynb",
   "provenance": []
  },
  "kernelspec": {
   "display_name": "Python 3",
   "language": "python",
   "name": "python3"
  },
  "language_info": {
   "codemirror_mode": {
    "name": "ipython",
    "version": 3
   },
   "file_extension": ".py",
   "mimetype": "text/x-python",
   "name": "python",
   "nbconvert_exporter": "python",
   "pygments_lexer": "ipython3",
   "version": "3.8.8"
  }
 },
 "nbformat": 4,
 "nbformat_minor": 1
}
